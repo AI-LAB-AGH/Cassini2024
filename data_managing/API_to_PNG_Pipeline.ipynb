{
 "cells": [
  {
   "cell_type": "code",
   "execution_count": 1,
   "id": "1646aa89-e1d7-4ba0-837e-112efafdc06f",
   "metadata": {},
   "outputs": [],
   "source": [
    "import openeo"
   ]
  },
  {
   "cell_type": "code",
   "execution_count": 2,
   "id": "9b1ab73e-1a72-4230-a596-f8ec980ac983",
   "metadata": {},
   "outputs": [],
   "source": [
    "def make_connection():\n",
    "    con = openeo.connect(\"openeo.dataspace.copernicus.eu\")\n",
    "    con.authenticate_oidc()\n",
    "    return con"
   ]
  },
  {
   "cell_type": "code",
   "execution_count": 3,
   "id": "c322bae7-998c-42e0-b4d2-165c4a3cbe20",
   "metadata": {},
   "outputs": [],
   "source": [
    "def download_datacube( connection, output_file, date_start, date_end, west, south, east, north, chosen_bands = [\"B02\", \"B03\", \"B04\", \"B08\", \"B11\"]):\n",
    "    datacube = connection.load_collection(\n",
    "    \"SENTINEL2_L2A\",\n",
    "    spatial_extent={\"west\": west, \"south\": south, \"east\": east, \"north\": north},\n",
    "    temporal_extent = [date_start, date_end],\n",
    "    bands= chosen_bands,\n",
    ")\n",
    "    datacube.download(output_file+\".nc\")\n",
    "    datacube.download(output_file+\".png\")"
   ]
  },
  {
   "cell_type": "code",
   "execution_count": 4,
   "id": "4c175ab8-4f62-4234-9d2d-b52b3a35f6af",
   "metadata": {},
   "outputs": [],
   "source": [
    "# Set parameters\n",
    "date_start = \"2023-05-03\"\n",
    "date_end = \"2024-05-03\"\n",
    "west = 38.36391\n",
    "south = 47.90318\n",
    "east = 38.43927\n",
    "north = 47.94676\n",
    "chosen_bands = [\"B02\", \"B03\", \"B04\", \"B08\", \"B11\"]"
   ]
  },
  {
   "cell_type": "code",
   "execution_count": null,
   "id": "c6650278-d655-4a55-8b67-81b4d3f25d30",
   "metadata": {},
   "outputs": [],
   "source": [
    "con = make_connection()\n",
    "\n",
    "# Zapisuje pobrany datacube do plików name.nc i name.png\n",
    "download_datacube( con, \"name\", date_start, date_end, west, south, east, north)"
   ]
  },
  {
   "cell_type": "code",
   "execution_count": null,
   "id": "d9e71446-7a16-40cc-ba74-e1c0163a5c21",
   "metadata": {},
   "outputs": [],
   "source": []
  }
 ],
 "metadata": {
  "kernelspec": {
   "display_name": "Python 3 (ipykernel)",
   "language": "python",
   "name": "python3"
  },
  "language_info": {
   "codemirror_mode": {
    "name": "ipython",
    "version": 3
   },
   "file_extension": ".py",
   "mimetype": "text/x-python",
   "name": "python",
   "nbconvert_exporter": "python",
   "pygments_lexer": "ipython3",
   "version": "3.11.2"
  }
 },
 "nbformat": 4,
 "nbformat_minor": 5
}
