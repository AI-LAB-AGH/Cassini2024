{
 "cells": [
  {
   "cell_type": "code",
   "execution_count": 1,
   "id": "91bd3f00-ecd1-4972-9c1a-0403aab75f16",
   "metadata": {},
   "outputs": [
    {
     "name": "stderr",
     "output_type": "stream",
     "text": [
      "c:\\Users\\piotr\\Desktop\\Cassini\\Cassini2024\\venv\\Lib\\site-packages\\tqdm\\auto.py:21: TqdmWarning: IProgress not found. Please update jupyter and ipywidgets. See https://ipywidgets.readthedocs.io/en/stable/user_install.html\n",
      "  from .autonotebook import tqdm as notebook_tqdm\n"
     ]
    }
   ],
   "source": [
    "from pathlib import Path\n",
    "import getpass\n",
    "\n",
    "import matplotlib.pyplot as plt\n",
    "import seaborn as sns\n",
    "import numpy as np\n",
    "import pandas as pd\n",
    "import geopandas as gpd\n",
    "import rasterio\n",
    "import rasterio.plot\n",
    "from rasterio import features\n",
    "\n",
    "from sentinelhub import (\n",
    "    SHConfig,\n",
    "    CRS,\n",
    "    BBox,\n",
    "    DataCollection,\n",
    "    DownloadRequest,\n",
    "    MimeType,\n",
    "    MosaickingOrder,\n",
    "    SentinelHubDownloadClient,\n",
    "    SentinelHubStatisticalDownloadClient,\n",
    "    SentinelHubRequest,\n",
    "    bbox_to_dimensions,\n",
    "    SentinelHubStatistical,\n",
    "    Geometry,\n",
    "    parse_time,\n",
    ")"
   ]
  },
  {
   "cell_type": "code",
   "execution_count": 2,
   "id": "9ceb57ec-ab68-409f-8654-171b553fe11f",
   "metadata": {},
   "outputs": [
    {
     "ename": "ImportError",
     "evalue": "cannot import name 'CLIENT_ID' from 'secrets' (C:\\Program Files\\WindowsApps\\PythonSoftwareFoundation.Python.3.12_3.12.2032.0_x64__qbz5n2kfra8p0\\Lib\\secrets.py)",
     "output_type": "error",
     "traceback": [
      "\u001b[1;31m---------------------------------------------------------------------------\u001b[0m",
      "\u001b[1;31mImportError\u001b[0m                               Traceback (most recent call last)",
      "Cell \u001b[1;32mIn[2], line 1\u001b[0m\n\u001b[1;32m----> 1\u001b[0m \u001b[38;5;28;01mfrom\u001b[39;00m \u001b[38;5;21;01msecrets\u001b[39;00m \u001b[38;5;28;01mimport\u001b[39;00m CLIENT_ID, CLIENT_SECRET\n\u001b[0;32m      3\u001b[0m config \u001b[38;5;241m=\u001b[39m SHConfig()\n\u001b[0;32m      4\u001b[0m config\u001b[38;5;241m.\u001b[39msh_client_id \u001b[38;5;241m=\u001b[39m getpass\u001b[38;5;241m.\u001b[39mgetpass(CLIENT_ID)\n",
      "\u001b[1;31mImportError\u001b[0m: cannot import name 'CLIENT_ID' from 'secrets' (C:\\Program Files\\WindowsApps\\PythonSoftwareFoundation.Python.3.12_3.12.2032.0_x64__qbz5n2kfra8p0\\Lib\\secrets.py)"
     ]
    }
   ],
   "source": [
    "config = SHConfig()\n",
    "config.sh_client_id = getpass.getpass(\"Enter your SentinelHub client id\")\n",
    "config.sh_client_secret = getpass.getpass(\"Enter your SentinelHub client secret\")\n",
    "config.sh_token_url = \"https://identity.dataspace.copernicus.eu/auth/realms/CDSE/protocol/openid-connect/token\"\n",
    "config.sh_base_url = \"https://sh.dataspace.copernicus.eu\"\n",
    "config.save(\"cdse\")"
   ]
  },
  {
   "cell_type": "code",
   "execution_count": 12,
   "id": "d2c90b2c-8842-4206-bbfd-b74766189eae",
   "metadata": {},
   "outputs": [],
   "source": [
    "# config = SHConfig(\"profile_name\")"
   ]
  },
  {
   "cell_type": "code",
   "execution_count": null,
   "id": "51cf00e7-2d4f-48f7-a853-1595f49ca864",
   "metadata": {},
   "outputs": [],
   "source": [
    "# We also need to define the evalscript as a Python variable\n",
    "evalscript_raw = \"\"\"\n",
    "//VERSION=3\n",
    "function setup() {\n",
    "   return {\n",
    "    input: [\"NO2\"], // This specifies the bands that are looked at\n",
    "    output: { \n",
    "      bands: 1,\n",
    "      // This specifies in which data type the values will be returned\n",
    "      sampleType: \"FLOAT32\"\n",
    "    },\n",
    "    // Will make a simple mosaic, taking the most recent tiles to fill the bounding box\n",
    "    mosaicking: \"SIMPLE\"\n",
    "  };\n",
    "}\n",
    "\n",
    "function evaluatePixel(samples) {\n",
    "    // Here we could do more calculations which are applied to each pixel, \n",
    "    // but for now let's just return the value \n",
    "   return [samples.NO2] \n",
    "}\n",
    "\"\"\""
   ]
  },
  {
   "cell_type": "code",
   "execution_count": null,
   "id": "f64cc1a5-0072-40a0-a60a-e6c166e16df9",
   "metadata": {},
   "outputs": [],
   "source": [
    "bbox_europe = BBox([-12.30, 34.59, 32.52, 63.15], crs=CRS.WGS84).transform(CRS(3857))\n",
    "# This is defining the data we will use.\n",
    "# You can list all available data collections with `DataCollection.get_available_collections()`.\n",
    "data_5p = DataCollection.SENTINEL5P.define_from(\"5p\", service_url=config.sh_base_url)\n",
    "\n",
    "request_raw = SentinelHubRequest(\n",
    "    evalscript=evalscript_raw,\n",
    "    input_data=[\n",
    "        SentinelHubRequest.input_data(\n",
    "            data_collection=data_5p,\n",
    "            time_interval=(\"2023-01-01\", \"2023-05-26\"),\n",
    "        )\n",
    "    ],\n",
    "    responses=[SentinelHubRequest.output_response(\"default\", MimeType.TIFF)],\n",
    "    bbox=bbox_europe,\n",
    "    # Resolution is defined in units of the bbox crs! Be careful with WGS84 since this will be in degrees!\n",
    "    # Since we have defined our bounding box in Web mercator the resolution is in meters.\n",
    "    resolution=(5500, 3500),\n",
    "    config=config,\n",
    "    data_folder=\"./data\",  # We save the data in a specified folder\n",
    ")"
   ]
  },
  {
   "cell_type": "code",
   "execution_count": null,
   "id": "4c89d120-5bba-4768-901f-dc2dca24dcdd",
   "metadata": {},
   "outputs": [],
   "source": [
    "raw_data = request_raw.get_data(save_data=True)"
   ]
  },
  {
   "cell_type": "code",
   "execution_count": null,
   "id": "83eb1195-7329-4a48-a4d0-6eee29415962",
   "metadata": {},
   "outputs": [
    {
     "data": {
      "text/plain": [
       "[array([[           nan,            nan,            nan, ...,\n",
       "                    nan,            nan,            nan],\n",
       "        [           nan,            nan,            nan, ...,\n",
       "                    nan,            nan,            nan],\n",
       "        [           nan,            nan,            nan, ...,\n",
       "                    nan,            nan,            nan],\n",
       "        ...,\n",
       "        [1.22966185e-05, 1.22966185e-05, 1.62907181e-05, ...,\n",
       "                    nan,            nan,            nan],\n",
       "        [1.55407233e-05, 1.55407233e-05, 2.06314098e-06, ...,\n",
       "                    nan,            nan,            nan],\n",
       "        [1.55407233e-05, 1.55407233e-05, 2.06314098e-06, ...,\n",
       "                    nan,            nan,            nan]], dtype=float32)]"
      ]
     },
     "execution_count": 16,
     "metadata": {},
     "output_type": "execute_result"
    }
   ],
   "source": [
    "raw_data"
   ]
  },
  {
   "cell_type": "code",
   "execution_count": null,
   "id": "c52d2d0e-bcc0-4363-82f2-fcb64f7f302c",
   "metadata": {},
   "outputs": [],
   "source": []
  }
 ],
 "metadata": {
  "kernelspec": {
   "display_name": ".venv",
   "language": "python",
   "name": "python3"
  },
  "language_info": {
   "codemirror_mode": {
    "name": "ipython",
    "version": 3
   },
   "file_extension": ".py",
   "mimetype": "text/x-python",
   "name": "python",
   "nbconvert_exporter": "python",
   "pygments_lexer": "ipython3",
   "version": "3.12.7"
  }
 },
 "nbformat": 4,
 "nbformat_minor": 5
}
