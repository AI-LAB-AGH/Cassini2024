{
 "cells": [
  {
   "cell_type": "code",
   "execution_count": 1,
   "id": "94f0f728-b7ed-4c38-8ad4-71055ce68882",
   "metadata": {},
   "outputs": [],
   "source": [
    "import openeo\n",
    "import xarray\n",
    "import matplotlib.pyplot as plt"
   ]
  },
  {
   "cell_type": "markdown",
   "id": "e7e05a31-d288-4ee0-b037-3aec4bfceac0",
   "metadata": {},
   "source": [
    "# Datacube preprocessing"
   ]
  },
  {
   "cell_type": "code",
   "execution_count": 2,
   "id": "adaf468e-950c-4b12-8abc-58cc88ede30c",
   "metadata": {},
   "outputs": [],
   "source": [
    "ds = xarray.load_dataset(\"Datacubes/name.nc\")"
   ]
  },
  {
   "cell_type": "code",
   "execution_count": 3,
   "id": "13760f4c-582a-42ee-8457-5dc148a5aec1",
   "metadata": {},
   "outputs": [],
   "source": [
    "rgb = ds[['B02', 'B03', 'B04']]"
   ]
  },
  {
   "cell_type": "code",
   "execution_count": 4,
   "id": "821942c4-4f89-4681-96cc-1865cade26da",
   "metadata": {},
   "outputs": [],
   "source": [
    "rgb_array = ds.to_array()\n",
    "rgb_np_array = rgb_array.to_numpy()"
   ]
  },
  {
   "cell_type": "code",
   "execution_count": 5,
   "id": "90a6fb17-652e-4788-9174-78110f7b9451",
   "metadata": {},
   "outputs": [],
   "source": [
    "b8 = ds[\"B08\"]\n",
    "b11 = ds[\"B11\"]\n",
    "ndmi = (b8 - b11) / (b8 + b11)"
   ]
  },
  {
   "cell_type": "code",
   "execution_count": 6,
   "id": "e348e4da-8853-466e-8c37-d7581d04e898",
   "metadata": {},
   "outputs": [],
   "source": [
    "ndmi_np_array = ndmi.to_numpy()"
   ]
  },
  {
   "cell_type": "markdown",
   "id": "223f7ec0-a532-4174-bdb1-56dd6e663dc1",
   "metadata": {},
   "source": [
    "Otrzymujemy np.array ndmi_np_array (zawierająca wskaźnik NDMI) i rgb_np_array z wartościami RGB"
   ]
  },
  {
   "cell_type": "code",
   "execution_count": 9,
   "id": "23186744-7025-4f81-ab04-9d3b65a5562e",
   "metadata": {},
   "outputs": [
    {
     "data": {
      "text/plain": [
       "numpy.ndarray"
      ]
     },
     "execution_count": 9,
     "metadata": {},
     "output_type": "execute_result"
    }
   ],
   "source": [
    "type(rgb_np_array)"
   ]
  },
  {
   "cell_type": "code",
   "execution_count": null,
   "id": "f3dc757c-d489-45c0-8bc3-38866ba44257",
   "metadata": {},
   "outputs": [],
   "source": []
  }
 ],
 "metadata": {
  "kernelspec": {
   "display_name": "Python 3 (ipykernel)",
   "language": "python",
   "name": "python3"
  },
  "language_info": {
   "codemirror_mode": {
    "name": "ipython",
    "version": 3
   },
   "file_extension": ".py",
   "mimetype": "text/x-python",
   "name": "python",
   "nbconvert_exporter": "python",
   "pygments_lexer": "ipython3",
   "version": "3.11.2"
  }
 },
 "nbformat": 4,
 "nbformat_minor": 5
}
